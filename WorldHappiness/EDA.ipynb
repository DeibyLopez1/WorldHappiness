{
 "cells": [
  {
   "cell_type": "code",
   "execution_count": 73,
   "id": "fb1edc3f-6f50-4087-a7b4-a86d57e64b30",
   "metadata": {},
   "outputs": [],
   "source": [
    "import pandas as pd\n",
    "import numpy as np\n"
   ]
  },
  {
   "cell_type": "markdown",
   "id": "ca497ee4-d7ed-4fcf-8df2-b7f0da3e6a58",
   "metadata": {},
   "source": [
    "## Reading files"
   ]
  },
  {
   "cell_type": "code",
   "execution_count": 62,
   "id": "0a389ee7-7fa2-4523-95ea-1f45ae4ac6f8",
   "metadata": {},
   "outputs": [],
   "source": [
    "wh2018 = pd.read_csv('2018_v2.csv')\n",
    "wh2019 = pd.read_csv('2019_v2.csv')"
   ]
  },
  {
   "cell_type": "markdown",
   "id": "72f1cf5f-7cc4-4dfa-9dc8-51105a51d652",
   "metadata": {},
   "source": [
    "Adding extra column to identify year of population"
   ]
  },
  {
   "cell_type": "code",
   "execution_count": 5,
   "id": "ec21e6da-422e-4a8e-8aac-e601e30b89dd",
   "metadata": {},
   "outputs": [],
   "source": [
    "wh2018['year'] = 2018\n",
    "wh2019['year'] = 2019"
   ]
  },
  {
   "cell_type": "markdown",
   "id": "e3fdff02-1732-477b-a78b-f97aea07b013",
   "metadata": {},
   "source": [
    "Union of three files"
   ]
  },
  {
   "cell_type": "code",
   "execution_count": 6,
   "id": "ab6d0ee5-911c-4d6f-8889-058467e7015a",
   "metadata": {},
   "outputs": [],
   "source": [
    "wh = pd.concat([wh2018,wh2019])"
   ]
  },
  {
   "cell_type": "code",
   "execution_count": 7,
   "id": "54d33b78-43e1-4904-92b0-485e8d2abefa",
   "metadata": {},
   "outputs": [
    {
     "data": {
      "text/plain": [
       "Index(['Overall rank', 'Country or region', 'Score', 'GDP per capita',\n",
       "       'Social support', 'Healthy life expectancy',\n",
       "       'Freedom to make life choices', 'Generosity',\n",
       "       'Perceptions of corruption', 'year'],\n",
       "      dtype='object')"
      ]
     },
     "execution_count": 7,
     "metadata": {},
     "output_type": "execute_result"
    }
   ],
   "source": [
    "wh.columns"
   ]
  },
  {
   "cell_type": "markdown",
   "id": "81746628-353c-46f1-861d-8cf68100203f",
   "metadata": {},
   "source": [
    "## Ejercicios\n",
    "\n",
    "1. Partiendo de Wh, realice un analisis de valores nulos. que porcentaje de valores nulos se encuentran en cada columna por anio. presente el analisis en un dataframe"
   ]
  },
  {
   "cell_type": "markdown",
   "id": "fac6f6e3-8f5a-48bb-9a06-632757c857be",
   "metadata": {},
   "source": [
    "Ejemplo:"
   ]
  },
  {
   "cell_type": "code",
   "execution_count": 8,
   "id": "748a8b4c-85aa-4cff-96a3-61bcf2a8e466",
   "metadata": {},
   "outputs": [
    {
     "data": {
      "text/html": [
       "<div>\n",
       "<style scoped>\n",
       "    .dataframe tbody tr th:only-of-type {\n",
       "        vertical-align: middle;\n",
       "    }\n",
       "\n",
       "    .dataframe tbody tr th {\n",
       "        vertical-align: top;\n",
       "    }\n",
       "\n",
       "    .dataframe thead th {\n",
       "        text-align: right;\n",
       "    }\n",
       "</style>\n",
       "<table border=\"1\" class=\"dataframe\">\n",
       "  <thead>\n",
       "    <tr style=\"text-align: right;\">\n",
       "      <th></th>\n",
       "      <th>year</th>\n",
       "      <th>column</th>\n",
       "      <th>percentage.of.nans</th>\n",
       "    </tr>\n",
       "  </thead>\n",
       "  <tbody>\n",
       "    <tr>\n",
       "      <th>0</th>\n",
       "      <td>2017</td>\n",
       "      <td>Happiness.Rank</td>\n",
       "      <td>0.2</td>\n",
       "    </tr>\n",
       "    <tr>\n",
       "      <th>1</th>\n",
       "      <td>2017</td>\n",
       "      <td>Whisker.low</td>\n",
       "      <td>0.2</td>\n",
       "    </tr>\n",
       "  </tbody>\n",
       "</table>\n",
       "</div>"
      ],
      "text/plain": [
       "   year          column  percentage.of.nans\n",
       "0  2017  Happiness.Rank                 0.2\n",
       "1  2017     Whisker.low                 0.2"
      ]
     },
     "execution_count": 8,
     "metadata": {},
     "output_type": "execute_result"
    }
   ],
   "source": [
    "pd.DataFrame({\n",
    "    \"year\": [2017,2017]\n",
    "    , \"column\" : [\"Happiness.Rank\",\"Whisker.low\"]\n",
    "    , \"percentage.of.nans\" : [0.2,0.2]\n",
    "})"
   ]
  },
  {
   "cell_type": "markdown",
   "id": "ad19d0f9-2980-4411-9166-3760db06212f",
   "metadata": {},
   "source": [
    "### resolucion ejercicio uno"
   ]
  },
  {
   "cell_type": "code",
   "execution_count": 10,
   "id": "e99d9148-31d5-4564-be5e-aef7a61765ef",
   "metadata": {},
   "outputs": [
    {
     "name": "stdout",
     "output_type": "stream",
     "text": [
      "Overall rank\n",
      "0\n",
      "Country or region\n",
      "0\n",
      "Score\n",
      "19\n",
      "GDP per capita\n",
      "12\n",
      "Social support\n",
      "16\n",
      "Healthy life expectancy\n",
      "26\n",
      "Freedom to make life choices\n",
      "23\n",
      "Generosity\n",
      "21\n",
      "Perceptions of corruption\n",
      "13\n",
      "year\n",
      "0\n"
     ]
    }
   ],
   "source": [
    "for c_ in wh.columns:\n",
    "    print(c_)\n",
    "    print(np.sum(wh[c_].isna()))"
   ]
  },
  {
   "cell_type": "code",
   "execution_count": 32,
   "id": "2c7c0f4d-be8a-4dea-8445-e38b696cb27a",
   "metadata": {},
   "outputs": [],
   "source": [
    "porcentaje =((wh.isnull().sum() / len(wh))*100).sort_values(ascending=False)"
   ]
  },
  {
   "cell_type": "code",
   "execution_count": 38,
   "id": "0bf7b8ea-b954-48c7-af88-7b4bee4c19fb",
   "metadata": {},
   "outputs": [
    {
     "data": {
      "text/plain": [
       "porcentaje                      100.000000\n",
       "Healthy life expectancy           8.333333\n",
       "Freedom to make life choices      7.371795\n",
       "Generosity                        6.730769\n",
       "Score                             6.089744\n",
       "Social support                    5.128205\n",
       "Perceptions of corruption         4.166667\n",
       "GDP per capita                    3.846154\n",
       "Overall rank                      0.000000\n",
       "Country or region                 0.000000\n",
       "year                              0.000000\n",
       "dtype: float64"
      ]
     },
     "execution_count": 54,
     "metadata": {},
     "output_type": "execute_result"
    }
   ],
   "source": [
    "porcentaje"
   ]
  },
  {
   "cell_type": "code",
   "execution_count": 57,
   "id": "70084cb0-f62b-4988-ba11-15062a65d9f4",
   "metadata": {},
   "outputs": [],
   "source": [
    "a={\n",
    "     \"year\": [\"year\"]\n",
    "    , \"column\" : [\"year\"]\n",
    "    , \"percentage.of.nans\" : \"porcentaje\"\n",
    "  \n",
    "}"
   ]
  },
  {
   "cell_type": "code",
   "execution_count": 58,
   "id": "52abf14d-ee5c-42f6-b145-55c0447278fe",
   "metadata": {},
   "outputs": [
    {
     "data": {
      "text/html": [
       "<div>\n",
       "<style scoped>\n",
       "    .dataframe tbody tr th:only-of-type {\n",
       "        vertical-align: middle;\n",
       "    }\n",
       "\n",
       "    .dataframe tbody tr th {\n",
       "        vertical-align: top;\n",
       "    }\n",
       "\n",
       "    .dataframe thead th {\n",
       "        text-align: right;\n",
       "    }\n",
       "</style>\n",
       "<table border=\"1\" class=\"dataframe\">\n",
       "  <thead>\n",
       "    <tr style=\"text-align: right;\">\n",
       "      <th></th>\n",
       "      <th>year</th>\n",
       "      <th>column</th>\n",
       "      <th>percentage.of.nans</th>\n",
       "    </tr>\n",
       "  </thead>\n",
       "  <tbody>\n",
       "    <tr>\n",
       "      <th>0</th>\n",
       "      <td>year</td>\n",
       "      <td>year</td>\n",
       "      <td>porcentaje</td>\n",
       "    </tr>\n",
       "  </tbody>\n",
       "</table>\n",
       "</div>"
      ],
      "text/plain": [
       "   year column percentage.of.nans\n",
       "0  year   year         porcentaje"
      ]
     },
     "execution_count": 58,
     "metadata": {},
     "output_type": "execute_result"
    }
   ],
   "source": [
    "pd.DataFrame(a)"
   ]
  },
  {
   "cell_type": "markdown",
   "id": "76ceb543-1b4f-4a5f-9584-27259f6f4bb7",
   "metadata": {},
   "source": [
    "2. partiendo de Wh, por año muestre un resumen de todas las columnas.\n",
    "\n",
    "nota: aunque solo tenemos tres años, que pasaria si en nuestro dataframe tenemos 20 años? resuelva su ejercicio lo mas dinamico que se pueda\n",
    "\n",
    "### resolucion ejercicio dos"
   ]
  },
  {
   "cell_type": "code",
   "execution_count": 13,
   "id": "e6fb519a-7711-4c0f-ac76-0482a5c6c339",
   "metadata": {},
   "outputs": [
    {
     "data": {
      "text/plain": [
       "count     312.000000\n",
       "mean     2018.500000\n",
       "std         0.500803\n",
       "min      2018.000000\n",
       "25%      2018.000000\n",
       "50%      2018.500000\n",
       "75%      2019.000000\n",
       "max      2019.000000\n",
       "Name: year, dtype: float64"
      ]
     },
     "execution_count": 13,
     "metadata": {},
     "output_type": "execute_result"
    }
   ],
   "source": [
    "wh['year'].describe()"
   ]
  },
  {
   "cell_type": "code",
   "execution_count": null,
   "id": "4f0d4157-0595-4050-ac07-1a81a16b01c6",
   "metadata": {},
   "outputs": [],
   "source": []
  },
  {
   "cell_type": "markdown",
   "id": "99efac50-d1cc-4835-98f5-44af3f4aaea4",
   "metadata": {},
   "source": [
    "3. partiendo de Wh, remplace los valores NaN de las columnas por su mean, el mean debe de ser calculado por año para ser mas exacto\n",
    "\n",
    "### resolucion ejercicio tres"
   ]
  },
  {
   "cell_type": "code",
   "execution_count": null,
   "id": "a28b5bc7-b8b2-4d82-b669-51275100eb6a",
   "metadata": {},
   "outputs": [],
   "source": [
    "wh.fillna(0).mean"
   ]
  },
  {
   "cell_type": "markdown",
   "id": "8259629a-e170-4783-8935-b20bbb261d10",
   "metadata": {},
   "source": [
    "4. Partiendo de Wh limpio, para cada metrica por pais, muestra la diferencia del ultimo valor encontrado contra el primero. "
   ]
  },
  {
   "cell_type": "markdown",
   "id": "baee1d13-6755-443f-8961-d53b44a9dca8",
   "metadata": {},
   "source": [
    "Ejemplo:"
   ]
  },
  {
   "cell_type": "code",
   "execution_count": 62,
   "id": "9c197bcd-8603-426c-a4ce-4ddab6e50d49",
   "metadata": {},
   "outputs": [
    {
     "data": {
      "text/html": [
       "<div>\n",
       "<style scoped>\n",
       "    .dataframe tbody tr th:only-of-type {\n",
       "        vertical-align: middle;\n",
       "    }\n",
       "\n",
       "    .dataframe tbody tr th {\n",
       "        vertical-align: top;\n",
       "    }\n",
       "\n",
       "    .dataframe thead th {\n",
       "        text-align: right;\n",
       "    }\n",
       "</style>\n",
       "<table border=\"1\" class=\"dataframe\">\n",
       "  <thead>\n",
       "    <tr style=\"text-align: right;\">\n",
       "      <th></th>\n",
       "      <th>Overall rank</th>\n",
       "      <th>Country or region</th>\n",
       "      <th>Score</th>\n",
       "      <th>GDP per capita</th>\n",
       "      <th>Social support</th>\n",
       "      <th>Healthy life expectancy</th>\n",
       "      <th>Freedom to make life choices</th>\n",
       "      <th>Generosity</th>\n",
       "      <th>Perceptions of corruption</th>\n",
       "      <th>year</th>\n",
       "    </tr>\n",
       "  </thead>\n",
       "  <tbody>\n",
       "    <tr>\n",
       "      <th>4</th>\n",
       "      <td>5</td>\n",
       "      <td>Switzerland</td>\n",
       "      <td>7.487</td>\n",
       "      <td>1.420</td>\n",
       "      <td>1.549</td>\n",
       "      <td>0.927</td>\n",
       "      <td>0.660</td>\n",
       "      <td>0.256</td>\n",
       "      <td>0.357</td>\n",
       "      <td>2018</td>\n",
       "    </tr>\n",
       "    <tr>\n",
       "      <th>5</th>\n",
       "      <td>6</td>\n",
       "      <td>Switzerland</td>\n",
       "      <td>7.480</td>\n",
       "      <td>1.452</td>\n",
       "      <td>1.526</td>\n",
       "      <td>1.052</td>\n",
       "      <td>0.572</td>\n",
       "      <td>0.263</td>\n",
       "      <td>0.343</td>\n",
       "      <td>2019</td>\n",
       "    </tr>\n",
       "  </tbody>\n",
       "</table>\n",
       "</div>"
      ],
      "text/plain": [
       "   Overall rank Country or region  Score  GDP per capita  Social support  \\\n",
       "4             5       Switzerland  7.487           1.420           1.549   \n",
       "5             6       Switzerland  7.480           1.452           1.526   \n",
       "\n",
       "   Healthy life expectancy  Freedom to make life choices  Generosity  \\\n",
       "4                    0.927                         0.660       0.256   \n",
       "5                    1.052                         0.572       0.263   \n",
       "\n",
       "   Perceptions of corruption  year  \n",
       "4                      0.357  2018  \n",
       "5                      0.343  2019  "
      ]
     },
     "execution_count": 62,
     "metadata": {},
     "output_type": "execute_result"
    }
   ],
   "source": [
    "wh.loc[ wh['Country or region'] == 'Switzerland' , : ]"
   ]
  },
  {
   "cell_type": "markdown",
   "id": "8a322dc9-ee13-403f-b6b0-e0be59e19cad",
   "metadata": {},
   "source": [
    "Como se puede observar para Switzerland en Score la diferencia seria 7.480 - 7.487\n",
    "\n",
    "Claramente en su solucion la columna año se debera de eliminar\n",
    "\n",
    "### resolucion ejercicio cuatro"
   ]
  },
  {
   "cell_type": "code",
   "execution_count": null,
   "id": "51892ff8-4f76-4d08-aaec-ad8960ebb1d2",
   "metadata": {},
   "outputs": [],
   "source": [
    "wh[0;2]-wh[1;2]"
   ]
  },
  {
   "cell_type": "code",
   "execution_count": null,
   "id": "d352d36a-15c7-4a54-88b6-f5909823a0f9",
   "metadata": {},
   "outputs": [],
   "source": [
    "wh.drop(['year'],axis=1)"
   ]
  }
 ],
 "metadata": {
  "kernelspec": {
   "display_name": "Python 3 (ipykernel)",
   "language": "python",
   "name": "python3"
  },
  "language_info": {
   "codemirror_mode": {
    "name": "ipython",
    "version": 3
   },
   "file_extension": ".py",
   "mimetype": "text/x-python",
   "name": "python",
   "nbconvert_exporter": "python",
   "pygments_lexer": "ipython3",
   "version": "3.9.7"
  }
 },
 "nbformat": 4,
 "nbformat_minor": 5
}
